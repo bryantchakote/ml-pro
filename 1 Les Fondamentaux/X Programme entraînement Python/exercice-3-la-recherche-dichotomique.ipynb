{
 "cells": [
  {
   "cell_type": "markdown",
   "metadata": {},
   "source": [
    "# **La recherche dichotomique**"
   ]
  },
  {
   "cell_type": "markdown",
   "metadata": {},
   "source": [
    "La recherche dichotomique `binary_search` est une méthode efficace pour trouver la position d'un élément dans une liste triée. Votre objectif est d'implémenter cette méthode, de la tester, et de l'étendre avec quelques variantes."
   ]
  },
  {
   "cell_type": "code",
   "execution_count": 1,
   "metadata": {},
   "outputs": [],
   "source": [
    "def binary_search(sorted_list, target):\n",
    "    low = 0\n",
    "    high = len(sorted_list) - 1\n",
    "    \n",
    "    while low <= high:\n",
    "        mid = (low + high) // 2\n",
    "\n",
    "        if target == sorted_list[mid]:\n",
    "            return mid\n",
    "        \n",
    "        if target > sorted_list[mid]:\n",
    "            low = mid + 1\n",
    "        \n",
    "        if target < sorted_list[mid]:\n",
    "            high = mid - 1\n",
    "        \n",
    "    return -1"
   ]
  },
  {
   "cell_type": "code",
   "execution_count": 2,
   "metadata": {},
   "outputs": [
    {
     "name": "stdout",
     "output_type": "stream",
     "text": [
      "Début : 0\n",
      "Milieu : 8\n",
      "Fin : 14\n",
      "Liste vide : -1\n",
      "Singleton : 0\n"
     ]
    }
   ],
   "source": [
    "l = [6, 8, 9, 19, 19, 24, 39, 41, 44, 54, 72, 81, 84, 91, 98]\n",
    "\n",
    "print(\"Début :\", binary_search(l, 6))\n",
    "print(\"Milieu :\", binary_search(l, 44))\n",
    "print(\"Fin :\", binary_search(l, 98))\n",
    "print(\"Liste vide :\", binary_search([], 1))\n",
    "print(\"Singleton :\", binary_search([1], 1))"
   ]
  },
  {
   "cell_type": "markdown",
   "metadata": {},
   "source": [
    "Variation (première occurrence) : Écrire une nouvelle fonction `binary_search_first_occurrence(sorted_list, target)` qui, dans une liste triée pouvant contenir des doublons, retourne l'indice de la première occurrence de target. Si l'élément n'est pas présent, retourner -1."
   ]
  },
  {
   "cell_type": "code",
   "execution_count": 3,
   "metadata": {},
   "outputs": [],
   "source": [
    "def binary_search_first_occurrence(sorted_list, target):\n",
    "    low = 0\n",
    "    high = len(sorted_list) - 1\n",
    "    \n",
    "    while low <= high:\n",
    "        mid = (low + high) // 2\n",
    "\n",
    "        if target == sorted_list[mid]:\n",
    "            for _ in range(mid, 1, -1):\n",
    "                if sorted_list[mid] == sorted_list[mid - 1]:\n",
    "                    mid -= 1\n",
    "                    \n",
    "            return mid\n",
    "        \n",
    "        if target > sorted_list[mid]:\n",
    "            low = mid + 1\n",
    "        \n",
    "        if target < sorted_list[mid]:\n",
    "            high = mid - 1\n",
    "        \n",
    "    return -1"
   ]
  },
  {
   "cell_type": "code",
   "execution_count": 4,
   "metadata": {},
   "outputs": [
    {
     "data": {
      "text/plain": [
       "1"
      ]
     },
     "execution_count": 4,
     "metadata": {},
     "output_type": "execute_result"
    }
   ],
   "source": [
    "binary_search_first_occurrence([1, 2, 2, 2, 3, 4], 2)"
   ]
  }
 ],
 "metadata": {
  "kernelspec": {
   "display_name": "programme-entrainement-python-uxpJazuC-py3.13",
   "language": "python",
   "name": "python3"
  },
  "language_info": {
   "codemirror_mode": {
    "name": "ipython",
    "version": 3
   },
   "file_extension": ".py",
   "mimetype": "text/x-python",
   "name": "python",
   "nbconvert_exporter": "python",
   "pygments_lexer": "ipython3",
   "version": "3.13.1"
  }
 },
 "nbformat": 4,
 "nbformat_minor": 2
}
