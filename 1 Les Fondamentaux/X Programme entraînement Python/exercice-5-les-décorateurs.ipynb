{
 "cells": [
  {
   "cell_type": "markdown",
   "metadata": {},
   "source": [
    "# **Les décorateurs**"
   ]
  },
  {
   "cell_type": "markdown",
   "metadata": {},
   "source": [
    "Les décorateurs en Python sont un moyen pratique de modifier le comportement d'une fonction sans en altérer le code source directement. Ils sont utiles pour la journalisation, la validation, le contrôle d'accès, etc."
   ]
  },
  {
   "cell_type": "markdown",
   "metadata": {},
   "source": [
    "### **1. Journalisation simple**"
   ]
  },
  {
   "cell_type": "markdown",
   "metadata": {},
   "source": [
    "Écrire un décorateur `@journalize` qui, appliqué à une fonction, affiche : le nom de la fonction appelée, et les arguments positionnels et nommés passés à cette fonction. La fonction décorée doit ensuite s'exécuter normalement et retourner son résultat."
   ]
  },
  {
   "cell_type": "code",
   "execution_count": 1,
   "metadata": {},
   "outputs": [
    {
     "name": "stdout",
     "output_type": "stream",
     "text": [
      "addition (3, 5) {}\n"
     ]
    },
    {
     "data": {
      "text/plain": [
       "8"
      ]
     },
     "execution_count": 1,
     "metadata": {},
     "output_type": "execute_result"
    }
   ],
   "source": [
    "def journalize(f):\n",
    "    def wrapper(*args, **kwargs):\n",
    "        print(f.__name__, args, kwargs)\n",
    "        return f(*args, **kwargs)\n",
    "\n",
    "    return wrapper\n",
    "\n",
    "\n",
    "@journalize\n",
    "def addition(a, b):\n",
    "    return a + b\n",
    "\n",
    "\n",
    "addition(3, 5)"
   ]
  },
  {
   "cell_type": "markdown",
   "metadata": {},
   "source": [
    "### **2. Décorateur de mémorisation (caching)**"
   ]
  },
  {
   "cell_type": "markdown",
   "metadata": {},
   "source": [
    "Écrire un décorateur `@memorize` qui stocke les résultats de la fonction décorée en fonction de ses arguments. Si la fonction est appelée à nouveau avec les mêmes arguments, retourner directement le résultat mémorisé au lieu de recalculer. Tester ce décorateur sur une fonction de calcul un peu coûteuse (par exemple, une fonction qui calcule le n-ième nombre de Fibonacci de manière récursive)."
   ]
  },
  {
   "cell_type": "code",
   "execution_count": 2,
   "metadata": {},
   "outputs": [
    {
     "name": "stdout",
     "output_type": "stream",
     "text": [
      "12.8 ms ± 992 μs per loop (mean ± std. dev. of 10 runs, 10 loops each)\n"
     ]
    }
   ],
   "source": [
    "%%timeit -r 10 -n 10\n",
    "\n",
    "\n",
    "def fibonacci(n):\n",
    "    if n <= 0:\n",
    "        return 0\n",
    "    if n == 1:\n",
    "        return 1\n",
    "    return fibonacci(n - 1) + fibonacci(n - 2)\n",
    "\n",
    "\n",
    "fibonacci(25)"
   ]
  },
  {
   "cell_type": "code",
   "execution_count": 3,
   "metadata": {},
   "outputs": [],
   "source": [
    "def memorize(f):\n",
    "    cache = {}\n",
    "\n",
    "    def wrapper(*args):\n",
    "        if args in cache:\n",
    "            return cache[args]\n",
    "\n",
    "        result = f(*args)\n",
    "        cache[args] = result\n",
    "        return result\n",
    "\n",
    "    return wrapper"
   ]
  },
  {
   "cell_type": "code",
   "execution_count": 4,
   "metadata": {},
   "outputs": [
    {
     "name": "stdout",
     "output_type": "stream",
     "text": [
      "10.5 μs ± 955 ns per loop (mean ± std. dev. of 10 runs, 20 loops each)\n"
     ]
    }
   ],
   "source": [
    "%%timeit -r 10 -n 20\n",
    "\n",
    "\n",
    "@memorize\n",
    "def fibonacci(n):\n",
    "    if n <= 0:\n",
    "        return 0\n",
    "    if n == 1:\n",
    "        return 1\n",
    "    return fibonacci(n - 1) + fibonacci(n - 2)\n",
    "\n",
    "\n",
    "fibonacci(25)"
   ]
  },
  {
   "cell_type": "markdown",
   "metadata": {},
   "source": [
    "### **3. Combinaison de décorateurs**"
   ]
  },
  {
   "cell_type": "code",
   "execution_count": 5,
   "metadata": {},
   "outputs": [
    {
     "name": "stdout",
     "output_type": "stream",
     "text": [
      "wrapper (10,) {}\n",
      "wrapper (9,) {}\n",
      "wrapper (8,) {}\n",
      "wrapper (7,) {}\n",
      "wrapper (6,) {}\n",
      "wrapper (5,) {}\n",
      "wrapper (4,) {}\n",
      "wrapper (3,) {}\n",
      "wrapper (2,) {}\n",
      "wrapper (1,) {}\n",
      "wrapper (0,) {}\n",
      "wrapper (1,) {}\n",
      "wrapper (2,) {}\n",
      "wrapper (3,) {}\n",
      "wrapper (4,) {}\n",
      "wrapper (5,) {}\n",
      "wrapper (6,) {}\n",
      "wrapper (7,) {}\n",
      "wrapper (8,) {}\n"
     ]
    },
    {
     "data": {
      "text/plain": [
       "55"
      ]
     },
     "execution_count": 5,
     "metadata": {},
     "output_type": "execute_result"
    }
   ],
   "source": [
    "@journalize\n",
    "@memorize\n",
    "def fibonacci(n):\n",
    "    if n <= 0:\n",
    "        return 0\n",
    "    if n == 1:\n",
    "        return 1\n",
    "    return fibonacci(n - 1) + fibonacci(n - 2)\n",
    "\n",
    "\n",
    "fibonacci(10)"
   ]
  },
  {
   "cell_type": "code",
   "execution_count": 6,
   "metadata": {},
   "outputs": [
    {
     "name": "stdout",
     "output_type": "stream",
     "text": [
      "fibonacci (10,) {}\n",
      "fibonacci (9,) {}\n",
      "fibonacci (8,) {}\n",
      "fibonacci (7,) {}\n",
      "fibonacci (6,) {}\n",
      "fibonacci (5,) {}\n",
      "fibonacci (4,) {}\n",
      "fibonacci (3,) {}\n",
      "fibonacci (2,) {}\n",
      "fibonacci (1,) {}\n",
      "fibonacci (0,) {}\n"
     ]
    },
    {
     "data": {
      "text/plain": [
       "55"
      ]
     },
     "execution_count": 6,
     "metadata": {},
     "output_type": "execute_result"
    }
   ],
   "source": [
    "@memorize\n",
    "@journalize\n",
    "def fibonacci(n):\n",
    "    if n <= 0:\n",
    "        return 0\n",
    "    if n == 1:\n",
    "        return 1\n",
    "    return fibonacci(n - 1) + fibonacci(n - 2)\n",
    "\n",
    "\n",
    "fibonacci(10)"
   ]
  }
 ],
 "metadata": {
  "kernelspec": {
   "display_name": "programme-entrainement-python-uxpJazuC-py3.13",
   "language": "python",
   "name": "python3"
  },
  "language_info": {
   "codemirror_mode": {
    "name": "ipython",
    "version": 3
   },
   "file_extension": ".py",
   "mimetype": "text/x-python",
   "name": "python",
   "nbconvert_exporter": "python",
   "pygments_lexer": "ipython3",
   "version": "3.13.1"
  }
 },
 "nbformat": 4,
 "nbformat_minor": 2
}
