{
 "cells": [
  {
   "cell_type": "markdown",
   "metadata": {},
   "source": [
    "# **Les algorithmes de tri**"
   ]
  },
  {
   "cell_type": "code",
   "execution_count": 1,
   "metadata": {},
   "outputs": [],
   "source": [
    "l1 = [5, 3, 8, 6, 2]\n",
    "l2 = [7, 2, 8, 1, 5]\n",
    "l3 = [3, 1, 2]"
   ]
  },
  {
   "cell_type": "markdown",
   "metadata": {},
   "source": [
    "### **1 Tri à Bulles (Bubble Sort)**"
   ]
  },
  {
   "cell_type": "markdown",
   "metadata": {},
   "source": [
    "Le tri à bulles compare des paires d'éléments adjacents dans une liste et les échange s'ils ne sont pas dans le bon ordre (du plus petit au plus grand). On répète ce processus autant de fois que nécessaire jusqu'à ce que la liste soit totalement triée. L'idée est que, comme des bulles dans l'eau, les plus grands éléments \"remontent\" progressivement vers la fin de la liste."
   ]
  },
  {
   "cell_type": "code",
   "execution_count": 2,
   "metadata": {},
   "outputs": [
    {
     "name": "stdout",
     "output_type": "stream",
     "text": [
      "[2, 3, 5, 6, 8]\n",
      "[1, 2, 5, 7, 8]\n",
      "[1, 2, 3]\n"
     ]
    }
   ],
   "source": [
    "def bubble_sort(l):\n",
    "    l = l.copy()\n",
    "    switch = 1\n",
    "    while switch:\n",
    "        switch = 0\n",
    "        for i in range(len(l) - 1):\n",
    "            if l[i] > l[i+1]:\n",
    "                l[i], l[i+1] = l[i+1], l[i]\n",
    "                switch = 1\n",
    "    return l\n",
    "\n",
    "print(bubble_sort(l1))\n",
    "print(bubble_sort(l2))\n",
    "print(bubble_sort(l3))"
   ]
  },
  {
   "cell_type": "markdown",
   "metadata": {},
   "source": [
    "### **2 Tri Rapide (Quick Sort)**"
   ]
  },
  {
   "cell_type": "markdown",
   "metadata": {},
   "source": [
    "Le tri rapide est basé sur l'idée de choisir un pivot dans la liste et de séparer (partitionner) tous les éléments en deux sous-listes : les éléments inférieurs au pivot, et les éléments supérieurs au pivot. On trie ensuite récursivement ces deux sous-listes, puis on combine le tout pour obtenir la liste finale triée."
   ]
  },
  {
   "cell_type": "code",
   "execution_count": 3,
   "metadata": {},
   "outputs": [
    {
     "name": "stdout",
     "output_type": "stream",
     "text": [
      "[2, 3, 5, 6, 8]\n",
      "[1, 2, 5, 7, 8]\n",
      "[1, 2, 3]\n"
     ]
    }
   ],
   "source": [
    "def quick_sort(l):\n",
    "    l = l.copy()\n",
    "    if len(l) == 0:\n",
    "        return l\n",
    "\n",
    "    p = l[-1]\n",
    "    lower = [_ for _ in l if _ < p]\n",
    "    higher = [_ for _ in l if _ > p]\n",
    "    \n",
    "    return quick_sort(lower) + [p] + quick_sort(higher)\n",
    "\n",
    "print(quick_sort(l1))\n",
    "print(quick_sort(l2))\n",
    "print(quick_sort(l3))"
   ]
  },
  {
   "cell_type": "markdown",
   "metadata": {},
   "source": [
    "### **3 Tri par Insertion (Insertion Sort)**"
   ]
  },
  {
   "cell_type": "markdown",
   "metadata": {},
   "source": [
    "Le tri par insertion consiste à parcourir la liste élément par élément, en considérant que les éléments avant la position courante sont déjà triés. On \"insère\" alors le nouvel élément dans la partie déjà triée à la bonne place."
   ]
  },
  {
   "cell_type": "code",
   "execution_count": 4,
   "metadata": {},
   "outputs": [
    {
     "name": "stdout",
     "output_type": "stream",
     "text": [
      "[2, 3, 5, 6, 8]\n",
      "[1, 2, 5, 7, 8]\n",
      "[1, 2, 3]\n"
     ]
    }
   ],
   "source": [
    "def insertion_sort(l):\n",
    "    l = l.copy()\n",
    "    for i in range(1, len(l)):\n",
    "        val = l[i]\n",
    "        displaced = 0\n",
    "        \n",
    "        for j in range(i - 1, -1, -1):\n",
    "            if l[j] > val:\n",
    "                l[j+1] = l[j]\n",
    "                displaced = 1\n",
    "                if j == 0:\n",
    "                    l[0] = val\n",
    "                \n",
    "            else:\n",
    "                if displaced:\n",
    "                    l[j+1] = val\n",
    "                \n",
    "                break\n",
    "    return l\n",
    "\n",
    "print(insertion_sort(l1))\n",
    "print(insertion_sort(l2))\n",
    "print(insertion_sort(l3))"
   ]
  },
  {
   "cell_type": "markdown",
   "metadata": {},
   "source": [
    "### **4 Tri par Fusion (Merge Sort)**"
   ]
  },
  {
   "cell_type": "markdown",
   "metadata": {},
   "source": [
    "Le tri par fusion est une technique \"diviser pour régner\" : diviser la liste en deux moitiés, trier chacune des moitiés de façon récursive, fusionner les deux moitiés triées pour former une liste globale triée."
   ]
  },
  {
   "cell_type": "code",
   "execution_count": 5,
   "metadata": {},
   "outputs": [
    {
     "name": "stdout",
     "output_type": "stream",
     "text": [
      "[2, 3, 5, 6, 8]\n",
      "[1, 2, 5, 7, 8]\n",
      "[1, 2, 3]\n"
     ]
    }
   ],
   "source": [
    "def merge(a, b):\n",
    "    if len(a) == 0:\n",
    "        return b\n",
    "    if len(b) == 0:\n",
    "        return a\n",
    "    if a[0] <= b[0]:\n",
    "        return [a[0]] + merge(a[1:], b)\n",
    "    return [b[0]] + merge(a, b[1:])\n",
    "\n",
    "def merge_sort(l):\n",
    "    l = l.copy()\n",
    "    \n",
    "    if len(l) == 1:\n",
    "        return l\n",
    "    \n",
    "    mid = len(l) // 2\n",
    "    a = l[:mid]\n",
    "    b = l[mid:]\n",
    "    \n",
    "    return merge(merge_sort(a), merge_sort(b))\n",
    "\n",
    "print(merge_sort(l1))\n",
    "print(merge_sort(l2))\n",
    "print(merge_sort(l3))"
   ]
  }
 ],
 "metadata": {
  "kernelspec": {
   "display_name": "programme-entrainement-python-uxpJazuC-py3.13",
   "language": "python",
   "name": "python3"
  },
  "language_info": {
   "codemirror_mode": {
    "name": "ipython",
    "version": 3
   },
   "file_extension": ".py",
   "mimetype": "text/x-python",
   "name": "python",
   "nbconvert_exporter": "python",
   "pygments_lexer": "ipython3",
   "version": "3.13.1"
  }
 },
 "nbformat": 4,
 "nbformat_minor": 2
}
