{
 "cells": [
  {
   "cell_type": "markdown",
   "metadata": {},
   "source": [
    "# **La POO avec Python**"
   ]
  },
  {
   "cell_type": "markdown",
   "metadata": {},
   "source": [
    "Vous devez modéliser une concession automobile qui vend différents types de voitures. Les voitures peuvent être de types variés : électriques, thermiques, hybrides. Pour simplifier, on se concentrera sur des voitures générales (classe de base) et des voitures électriques (classe dérivée).\n",
    "\n",
    "**Objectifs**\n",
    "\n",
    "- Créer une hiérarchie de classes modélisant des voitures et une concession.\n",
    "- Gérer la liste des voitures disponibles en inventaire.\n",
    "- Ajouter une méthode de vente simulant le retrait d'une voiture de l'inventaire.\n",
    "- Présenter un exemple d'héritage entre classes (une sous-classe `Voiture Électrique` héritant de la classe `Voiture`)."
   ]
  },
  {
   "cell_type": "markdown",
   "metadata": {},
   "source": [
    "**1. Classe Voiture**"
   ]
  },
  {
   "cell_type": "code",
   "execution_count": 1,
   "metadata": {},
   "outputs": [],
   "source": [
    "class Voiture:\n",
    "    def __init__(self, marque: str, modele: str, prix: int, kilometrage: int = 0):\n",
    "        self.marque = marque\n",
    "        self.modele = modele\n",
    "        self.prix = prix\n",
    "        self.kilometrage = kilometrage\n",
    "\n",
    "    def afficher_info(self):\n",
    "        print(\"Marque :\", self.marque)\n",
    "        print(\"Modèle :\", self.modele)\n",
    "        print(\"Prix :\", self.prix)\n",
    "        print(\"Kilométrage :\", self.kilometrage)"
   ]
  },
  {
   "cell_type": "code",
   "execution_count": 2,
   "metadata": {},
   "outputs": [
    {
     "name": "stdout",
     "output_type": "stream",
     "text": [
      "Marque : Tesla\n",
      "Modèle : Model 3\n",
      "Prix : 35000\n",
      "Kilométrage : 10000\n"
     ]
    }
   ],
   "source": [
    "v = Voiture(marque=\"Tesla\", modele=\"Model 3\", prix=35000, kilometrage=10000)\n",
    "v.afficher_info()"
   ]
  },
  {
   "cell_type": "markdown",
   "metadata": {},
   "source": [
    "**2. Classe VoitureElectrique**"
   ]
  },
  {
   "cell_type": "code",
   "execution_count": 3,
   "metadata": {},
   "outputs": [],
   "source": [
    "class VoitureElectrique(Voiture):\n",
    "    def __init__(\n",
    "        self, marque: str, modele: str, prix: int, autonomie: int, kilometrage: int = 0\n",
    "    ):\n",
    "        super().__init__(marque, modele, prix, kilometrage)\n",
    "        self.autonomie = autonomie\n",
    "\n",
    "    def afficher_info(self):\n",
    "        super().afficher_info()\n",
    "        print(\"Autonomie :\", self.autonomie, \"km\")"
   ]
  },
  {
   "cell_type": "code",
   "execution_count": 4,
   "metadata": {},
   "outputs": [
    {
     "name": "stdout",
     "output_type": "stream",
     "text": [
      "Marque : Renault\n",
      "Modèle : Zoe\n",
      "Prix : 20000\n",
      "Kilométrage : 5000\n",
      "Autonomie : 300 km\n"
     ]
    }
   ],
   "source": [
    "ve = VoitureElectrique(\n",
    "    marque=\"Renault\", modele=\"Zoe\", prix=20000, kilometrage=5000, autonomie=300\n",
    ")\n",
    "ve.afficher_info()"
   ]
  },
  {
   "cell_type": "markdown",
   "metadata": {},
   "source": [
    "**3. Classe Concession**"
   ]
  },
  {
   "cell_type": "code",
   "execution_count": 5,
   "metadata": {},
   "outputs": [],
   "source": [
    "class Concession:\n",
    "    def __init__(self, nom: str, inventaire: list[Voiture] = []):\n",
    "        self.nom = nom\n",
    "        self.inventaire = inventaire\n",
    "\n",
    "    def ajouter_voiture(self, voiture: Voiture | VoitureElectrique):\n",
    "        self.inventaire.append(voiture)\n",
    "\n",
    "    def afficher_inventaire(self):\n",
    "        for voiture in self.inventaire:\n",
    "            voiture.afficher_info()\n",
    "            print(\"-\" * 20)\n",
    "\n",
    "    def vendre_voiture(self, marque: str, modele: str):\n",
    "        vendue = 0\n",
    "\n",
    "        for i, voiture in enumerate(self.inventaire):\n",
    "            if (voiture.marque == marque) & (voiture.modele == modele):\n",
    "                del self.inventaire[i]\n",
    "                vendue = 1\n",
    "                print(f\"La voiture {marque} {modele} a été vendue.\")\n",
    "\n",
    "        if not vendue:\n",
    "            print(f\"La voiture {marque} {modele} n'a pas été trouvée.\")\n",
    "\n",
    "    def calculer_valeur_inventaire(self):\n",
    "        nombre_voitures = len(self.inventaire)\n",
    "\n",
    "        if nombre_voitures == 0:\n",
    "            print(\"Aucun véhicule n'a été trouvé.\")\n",
    "        else:\n",
    "            prix_total = 0\n",
    "\n",
    "            for voiture in self.inventaire:\n",
    "                prix_total += voiture.prix\n",
    "\n",
    "            prix_moyen = prix_total / nombre_voitures\n",
    "\n",
    "            return prix_total, prix_moyen\n",
    "\n",
    "    def __str__(self):\n",
    "        return f\"{self.nom} : {len(self.inventaire)} voitures.\""
   ]
  },
  {
   "cell_type": "markdown",
   "metadata": {},
   "source": [
    "**4 Tests**"
   ]
  },
  {
   "cell_type": "code",
   "execution_count": 6,
   "metadata": {},
   "outputs": [
    {
     "name": "stdout",
     "output_type": "stream",
     "text": [
      "Marque : Toyota\n",
      "Modèle : Corolla\n",
      "Prix : 25000\n",
      "Kilométrage : 5000\n",
      "--------------------\n",
      "Marque : Peugeot\n",
      "Modèle : 308\n",
      "Prix : 27000\n",
      "Kilométrage : 12000\n",
      "--------------------\n",
      "Marque : Ford\n",
      "Modèle : Focus\n",
      "Prix : 23000\n",
      "Kilométrage : 8000\n",
      "--------------------\n",
      "Marque : Tesla\n",
      "Modèle : Model S\n",
      "Prix : 80000\n",
      "Kilométrage : 2000\n",
      "Autonomie : 600 km\n",
      "--------------------\n",
      "Marque : Renault\n",
      "Modèle : Zoe\n",
      "Prix : 32000\n",
      "Kilométrage : 15000\n",
      "Autonomie : 400 km\n",
      "--------------------\n",
      "Marque : BMW\n",
      "Modèle : i3\n",
      "Prix : 40000\n",
      "Kilométrage : 5000\n",
      "Autonomie : 350 km\n",
      "--------------------\n"
     ]
    }
   ],
   "source": [
    "# Création de la concession et des véhicules\n",
    "c = Concession(\"Concession du Centre\")\n",
    "\n",
    "v1 = Voiture(\"Toyota\", \"Corolla\", 25000, 5000)\n",
    "v2 = Voiture(\"Peugeot\", \"308\", 27000, 12000)\n",
    "v3 = Voiture(\"Ford\", \"Focus\", 23000, 8000)\n",
    "\n",
    "ve1 = VoitureElectrique(\"Tesla\", \"Model S\", 80000, 600, 2000)\n",
    "ve2 = VoitureElectrique(\"Renault\", \"Zoe\", 32000, 400, 15000)\n",
    "ve3 = VoitureElectrique(\"BMW\", \"i3\", 40000, 350, 5000)\n",
    "\n",
    "# Ajout à l'inventaire\n",
    "c.ajouter_voiture(v1)\n",
    "c.ajouter_voiture(v2)\n",
    "c.ajouter_voiture(v3)\n",
    "\n",
    "c.ajouter_voiture(ve1)\n",
    "c.ajouter_voiture(ve2)\n",
    "c.ajouter_voiture(ve3)\n",
    "\n",
    "# Affichage\n",
    "c.afficher_inventaire()"
   ]
  },
  {
   "cell_type": "code",
   "execution_count": 7,
   "metadata": {},
   "outputs": [
    {
     "name": "stdout",
     "output_type": "stream",
     "text": [
      "La voiture Toyota Corolla a été vendue.\n",
      "La voiture Toyota Carillo n'a pas été trouvée.\n",
      "--------------------------------------------------\n",
      "Concession du Centre : 5 voitures.\n",
      "--------------------------------------------------\n",
      "Valeur totale : 202000\n",
      "Valeur moyenne : 40400.0\n"
     ]
    }
   ],
   "source": [
    "# Vente d'une voiture existante et inexistante\n",
    "c.vendre_voiture(\"Toyota\", \"Corolla\")\n",
    "c.vendre_voiture(\"Toyota\", \"Carillo\")\n",
    "\n",
    "# Nombre de voitures restantes\n",
    "print(\"-\" * 50)\n",
    "print(c)\n",
    "\n",
    "# Valeur du parc\n",
    "prix_total, prix_moyen = c.calculer_valeur_inventaire()\n",
    "print(\"-\" * 50)\n",
    "print(\"Valeur totale :\", prix_total)\n",
    "print(\"Valeur moyenne :\", prix_moyen)"
   ]
  }
 ],
 "metadata": {
  "kernelspec": {
   "display_name": "programme-entrainement-python-uxpJazuC-py3.13",
   "language": "python",
   "name": "python3"
  },
  "language_info": {
   "codemirror_mode": {
    "name": "ipython",
    "version": 3
   },
   "file_extension": ".py",
   "mimetype": "text/x-python",
   "name": "python",
   "nbconvert_exporter": "python",
   "pygments_lexer": "ipython3",
   "version": "3.13.1"
  }
 },
 "nbformat": 4,
 "nbformat_minor": 2
}
