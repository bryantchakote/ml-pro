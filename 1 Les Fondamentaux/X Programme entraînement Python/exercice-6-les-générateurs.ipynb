{
 "cells": [
  {
   "cell_type": "markdown",
   "metadata": {},
   "source": [
    "# **Les générateurs**"
   ]
  },
  {
   "cell_type": "markdown",
   "metadata": {},
   "source": [
    "Les générateurs en Python permettent de créer des itérateurs en écrivant des fonctions utilisant le mot-clé \"yield\". Ils offrent un moyen efficace de produire des séquences sans charger toute la liste en mémoire."
   ]
  },
  {
   "cell_type": "markdown",
   "metadata": {},
   "source": [
    "### **1 Générateur de suite simple**"
   ]
  },
  {
   "cell_type": "code",
   "execution_count": 1,
   "metadata": {},
   "outputs": [
    {
     "name": "stdout",
     "output_type": "stream",
     "text": [
      "5\n",
      "6\n",
      "7\n",
      "8\n",
      "9\n",
      "10\n"
     ]
    }
   ],
   "source": [
    "def compter(start, end):\n",
    "    for i in range(start, end + 1):\n",
    "        yield i\n",
    "\n",
    "for n in compter(5, 10):\n",
    "    print(n)"
   ]
  },
  {
   "cell_type": "markdown",
   "metadata": {},
   "source": [
    "### **2. Générateur filtrant**"
   ]
  },
  {
   "cell_type": "code",
   "execution_count": 2,
   "metadata": {},
   "outputs": [
    {
     "name": "stdout",
     "output_type": "stream",
     "text": [
      "6\n",
      "0\n",
      "6\n",
      "2\n"
     ]
    }
   ],
   "source": [
    "def nombres_pairs(l):\n",
    "    for i in l:\n",
    "        if i % 2 == 0:\n",
    "            yield i\n",
    "            \n",
    "for n in nombres_pairs([6, 0, 5, 6, 7, 2]):\n",
    "    print(n)  "
   ]
  },
  {
   "cell_type": "markdown",
   "metadata": {},
   "source": [
    "### **3. Générateur infini avec pause**"
   ]
  },
  {
   "cell_type": "code",
   "execution_count": 3,
   "metadata": {},
   "outputs": [
    {
     "name": "stdout",
     "output_type": "stream",
     "text": [
      "0\n",
      "1\n",
      "1\n",
      "2\n",
      "3\n",
      "5\n",
      "8\n",
      "13\n",
      "21\n",
      "34\n"
     ]
    }
   ],
   "source": [
    "def fibonacci():\n",
    "    a, b = 0, 1\n",
    "    while True:\n",
    "        yield a\n",
    "        a, b = b, a + b\n",
    "\n",
    "gen = fibonacci()\n",
    "for _ in range(10):\n",
    "    print(next(gen))"
   ]
  },
  {
   "cell_type": "markdown",
   "metadata": {},
   "source": [
    "### **4. Générateur de puissances**"
   ]
  },
  {
   "cell_type": "code",
   "execution_count": 4,
   "metadata": {},
   "outputs": [
    {
     "name": "stdout",
     "output_type": "stream",
     "text": [
      "1\n",
      "2\n",
      "4\n",
      "8\n",
      "16\n",
      "32\n",
      "64\n",
      "128\n",
      "256\n",
      "512\n",
      "1024\n"
     ]
    }
   ],
   "source": [
    "def generateur_puissance(n):\n",
    "    for i in range(n + 1):\n",
    "        yield 2 ** i\n",
    "\n",
    "for n in generateur_puissance(10):\n",
    "    print(n)"
   ]
  },
  {
   "cell_type": "markdown",
   "metadata": {},
   "source": [
    "### **5. Affichage sequentiel des lignes d'un texte**"
   ]
  },
  {
   "cell_type": "code",
   "execution_count": 5,
   "metadata": {},
   "outputs": [
    {
     "name": "stdout",
     "output_type": "stream",
     "text": [
      "Ligne 1 : \n",
      "Ligne 2 : Il faut, autant qu'on peut, obliger tout le monde :\n",
      "Ligne 3 : On a souvent besoin d'un plus petit que soi.\n",
      "Ligne 4 : De cette vérité deux fables feront foi,\n",
      "Ligne 5 : Tant la chose en preuves abonde.\n"
     ]
    }
   ],
   "source": [
    "def generateur_ligne(txt):\n",
    "    lignes = txt.splitlines()\n",
    "    for ligne in lignes:\n",
    "        yield ligne\n",
    "\n",
    "txt = \"\"\"\n",
    "Il faut, autant qu'on peut, obliger tout le monde :\n",
    "On a souvent besoin d'un plus petit que soi.\n",
    "De cette vérité deux fables feront foi,\n",
    "Tant la chose en preuves abonde.\n",
    "Entre les pattes d'un Lion,\n",
    "Un Rat sortit de terre assez à l'étourdie.\n",
    "Le Roi des animaux, en cette occasion,\n",
    "Montra ce qu'il était, et lui donna la vie.\n",
    "Ce bienfait ne fut pas perdu.\n",
    "Quelqu'un aurait-il jamais cru\n",
    "Qu'un Lion d'un Rat eût affaire (1)?\n",
    "Cependant il avint(2)qu'au sortir des forêts\n",
    "Ce Lion fut pris dans des rets (3),\n",
    "Dont ses rugissements ne le purent défaire.\n",
    "Sire Rat accourut, et fit tant par ses dents\n",
    "Qu'une maille rongée emporta tout l'ouvrage.\n",
    "Patience et longueur de temps\n",
    "Font plus que force ni que rage.\n",
    "\"\"\"\n",
    "\n",
    "gen = generateur_ligne(txt)\n",
    "\n",
    "for i in range(5):\n",
    "    print(f\"Ligne {i + 1} : {next(gen)}\")"
   ]
  }
 ],
 "metadata": {
  "kernelspec": {
   "display_name": "programme-entrainement-python-uxpJazuC-py3.13",
   "language": "python",
   "name": "python3"
  },
  "language_info": {
   "codemirror_mode": {
    "name": "ipython",
    "version": 3
   },
   "file_extension": ".py",
   "mimetype": "text/x-python",
   "name": "python",
   "nbconvert_exporter": "python",
   "pygments_lexer": "ipython3",
   "version": "3.13.1"
  }
 },
 "nbformat": 4,
 "nbformat_minor": 2
}
