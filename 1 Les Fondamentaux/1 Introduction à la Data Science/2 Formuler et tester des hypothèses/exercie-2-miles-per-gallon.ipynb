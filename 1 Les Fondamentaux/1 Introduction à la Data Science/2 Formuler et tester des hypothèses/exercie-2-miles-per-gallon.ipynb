{
 "cells": [
  {
   "cell_type": "markdown",
   "metadata": {},
   "source": [
    "# Miles per Gallon"
   ]
  },
  {
   "cell_type": "code",
   "execution_count": 1,
   "metadata": {},
   "outputs": [],
   "source": [
    "import numpy as np\n",
    "import pandas as pd\n",
    "from scipy.stats import pearsonr, ttest_ind, chisquare, f_oneway, chi2_contingency\n",
    "import matplotlib.pyplot as plt\n",
    "import seaborn as sns\n",
    "\n",
    "plt.style.use(\"ggplot\")"
   ]
  },
  {
   "cell_type": "code",
   "execution_count": 2,
   "metadata": {},
   "outputs": [
    {
     "data": {
      "text/html": [
       "<div>\n",
       "<style scoped>\n",
       "    .dataframe tbody tr th:only-of-type {\n",
       "        vertical-align: middle;\n",
       "    }\n",
       "\n",
       "    .dataframe tbody tr th {\n",
       "        vertical-align: top;\n",
       "    }\n",
       "\n",
       "    .dataframe thead th {\n",
       "        text-align: right;\n",
       "    }\n",
       "</style>\n",
       "<table border=\"1\" class=\"dataframe\">\n",
       "  <thead>\n",
       "    <tr style=\"text-align: right;\">\n",
       "      <th></th>\n",
       "      <th>mpg</th>\n",
       "      <th>cylinders</th>\n",
       "      <th>displacement</th>\n",
       "      <th>horsepower</th>\n",
       "      <th>weight</th>\n",
       "      <th>acceleration</th>\n",
       "      <th>model_year</th>\n",
       "      <th>origin</th>\n",
       "      <th>name</th>\n",
       "    </tr>\n",
       "  </thead>\n",
       "  <tbody>\n",
       "    <tr>\n",
       "      <th>0</th>\n",
       "      <td>18.0</td>\n",
       "      <td>8</td>\n",
       "      <td>307.0</td>\n",
       "      <td>130.0</td>\n",
       "      <td>3504</td>\n",
       "      <td>12.0</td>\n",
       "      <td>70</td>\n",
       "      <td>usa</td>\n",
       "      <td>chevrolet chevelle malibu</td>\n",
       "    </tr>\n",
       "    <tr>\n",
       "      <th>1</th>\n",
       "      <td>15.0</td>\n",
       "      <td>8</td>\n",
       "      <td>350.0</td>\n",
       "      <td>165.0</td>\n",
       "      <td>3693</td>\n",
       "      <td>11.5</td>\n",
       "      <td>70</td>\n",
       "      <td>usa</td>\n",
       "      <td>buick skylark 320</td>\n",
       "    </tr>\n",
       "    <tr>\n",
       "      <th>2</th>\n",
       "      <td>18.0</td>\n",
       "      <td>8</td>\n",
       "      <td>318.0</td>\n",
       "      <td>150.0</td>\n",
       "      <td>3436</td>\n",
       "      <td>11.0</td>\n",
       "      <td>70</td>\n",
       "      <td>usa</td>\n",
       "      <td>plymouth satellite</td>\n",
       "    </tr>\n",
       "    <tr>\n",
       "      <th>3</th>\n",
       "      <td>16.0</td>\n",
       "      <td>8</td>\n",
       "      <td>304.0</td>\n",
       "      <td>150.0</td>\n",
       "      <td>3433</td>\n",
       "      <td>12.0</td>\n",
       "      <td>70</td>\n",
       "      <td>usa</td>\n",
       "      <td>amc rebel sst</td>\n",
       "    </tr>\n",
       "    <tr>\n",
       "      <th>4</th>\n",
       "      <td>17.0</td>\n",
       "      <td>8</td>\n",
       "      <td>302.0</td>\n",
       "      <td>140.0</td>\n",
       "      <td>3449</td>\n",
       "      <td>10.5</td>\n",
       "      <td>70</td>\n",
       "      <td>usa</td>\n",
       "      <td>ford torino</td>\n",
       "    </tr>\n",
       "  </tbody>\n",
       "</table>\n",
       "</div>"
      ],
      "text/plain": [
       "    mpg  cylinders  displacement  horsepower  weight  acceleration  \\\n",
       "0  18.0          8         307.0       130.0    3504          12.0   \n",
       "1  15.0          8         350.0       165.0    3693          11.5   \n",
       "2  18.0          8         318.0       150.0    3436          11.0   \n",
       "3  16.0          8         304.0       150.0    3433          12.0   \n",
       "4  17.0          8         302.0       140.0    3449          10.5   \n",
       "\n",
       "   model_year origin                       name  \n",
       "0          70    usa  chevrolet chevelle malibu  \n",
       "1          70    usa          buick skylark 320  \n",
       "2          70    usa         plymouth satellite  \n",
       "3          70    usa              amc rebel sst  \n",
       "4          70    usa                ford torino  "
      ]
     },
     "execution_count": 2,
     "metadata": {},
     "output_type": "execute_result"
    }
   ],
   "source": [
    "df = sns.load_dataset(\"mpg\")\n",
    "df.dropna(inplace=True)\n",
    "df.head()"
   ]
  },
  {
   "cell_type": "code",
   "execution_count": 3,
   "metadata": {},
   "outputs": [
    {
     "name": "stdout",
     "output_type": "stream",
     "text": [
      "<class 'pandas.core.frame.DataFrame'>\n",
      "Index: 392 entries, 0 to 397\n",
      "Data columns (total 9 columns):\n",
      " #   Column        Non-Null Count  Dtype  \n",
      "---  ------        --------------  -----  \n",
      " 0   mpg           392 non-null    float64\n",
      " 1   cylinders     392 non-null    int64  \n",
      " 2   displacement  392 non-null    float64\n",
      " 3   horsepower    392 non-null    float64\n",
      " 4   weight        392 non-null    int64  \n",
      " 5   acceleration  392 non-null    float64\n",
      " 6   model_year    392 non-null    int64  \n",
      " 7   origin        392 non-null    object \n",
      " 8   name          392 non-null    object \n",
      "dtypes: float64(4), int64(3), object(2)\n",
      "memory usage: 30.6+ KB\n"
     ]
    }
   ],
   "source": [
    "df.info()"
   ]
  },
  {
   "cell_type": "markdown",
   "metadata": {},
   "source": [
    "#### **0. Variables discrètes et continues**"
   ]
  },
  {
   "cell_type": "code",
   "execution_count": 4,
   "metadata": {},
   "outputs": [],
   "source": [
    "disc = [\"cylinders\", \"model_year\", \"origin\", \"name\"]\n",
    "cont = [\"mpg\", \"displacement\", \"horsepower\", \"weight\", \"acceleration\"]"
   ]
  },
  {
   "cell_type": "markdown",
   "metadata": {},
   "source": [
    "#### **1. Analyse de l'évolution de la consommation des voitures (mpg) par rapport à la puissance du moteur (horsepower)**"
   ]
  },
  {
   "cell_type": "markdown",
   "metadata": {},
   "source": [
    "##### **1.1 Graphique correspondant**"
   ]
  },
  {
   "cell_type": "code",
   "execution_count": 5,
   "metadata": {},
   "outputs": [
    {
     "data": {
      "image/png": "[encoded data removed]",
      "text/plain": [
       "<Figure size 640x480 with 1 Axes>"
      ]
     },
     "metadata": {},
     "output_type": "display_data"
    }
   ],
   "source": [
    "sns.scatterplot(data=df, x=\"horsepower\", y=\"mpg\")\n",
    "plt.title(\"Evolution of mpg in relation to horsepower\")\n",
    "plt.show()"
   ]
  },
  {
   "cell_type": "markdown",
   "metadata": {},
   "source": [
    "##### **1.2 Corrélation de Pearson entre les variables**"
   ]
  },
  {
   "cell_type": "markdown",
   "metadata": {},
   "source": [
    "- Nous utilisons le test de Pearson pour étudier la corrélation entre ces deux variables continues."
   ]
  },
  {
   "cell_type": "code",
   "execution_count": 6,
   "metadata": {},
   "outputs": [
    {
     "data": {
      "text/plain": [
       "np.float64(-0.7784267838977759)"
      ]
     },
     "execution_count": 6,
     "metadata": {},
     "output_type": "execute_result"
    }
   ],
   "source": [
    "statistic, pvalue = pearsonr(df[\"horsepower\"], df[\"mpg\"])\n",
    "statistic"
   ]
  },
  {
   "cell_type": "markdown",
   "metadata": {},
   "source": [
    "- Les deux variables évoluent de manière quand même assez significative dans des directions opposées"
   ]
  },
  {
   "cell_type": "markdown",
   "metadata": {},
   "source": [
    "**1.3 Probabilité d'obtenir une telle corrélation ou plus extrême, si en réalité les deux variables étaient totalement décorrélées**"
   ]
  },
  {
   "cell_type": "code",
   "execution_count": 7,
   "metadata": {},
   "outputs": [
    {
     "data": {
      "text/plain": [
       "np.float64(7.0319890294050415e-81)"
      ]
     },
     "execution_count": 7,
     "metadata": {},
     "output_type": "execute_result"
    }
   ],
   "source": [
    "pvalue"
   ]
  },
  {
   "cell_type": "markdown",
   "metadata": {},
   "source": [
    "- Cette probabilité étant presque nulle, il est impensable de dire que les variables `horsepower` et `mpg` ne seraient pas correlées."
   ]
  },
  {
   "cell_type": "markdown",
   "metadata": {},
   "source": [
    "#### **2. Peut-on affirmer avec un risque d'erreur de 2% que les voitures étudiées ont vu leur autonomie moyenne augmenter entre la premiere et la seconde moitié des années 70 ?**"
   ]
  },
  {
   "cell_type": "markdown",
   "metadata": {},
   "source": [
    "- Nous considérerons les périodes [70; 74] et [75; 79].\n",
    "- Etant en présence d'une variable continue (`mpg`) et d'une variable discrète (`model_period`, période de production de la voiture), nous choisisons d'utiliser un test de Student à 2 échantillons :\n",
    "  - Nous supposons que les voitures observées sont idépendantes les unes des autres.\n",
    "  - Chaque groupe possède +30 points.\n",
    "  - Les variances sont plutôt différents, nous allons le spécifer dans la fonction de test afin d'utiliser le test de Welsh.\n",
    "- On pose H0 : \"mpg mpyen du groupe [70; 74] = mpg moyen du groupe [74; 79]\"."
   ]
  },
  {
   "cell_type": "code",
   "execution_count": 8,
   "metadata": {},
   "outputs": [
    {
     "data": {
      "text/html": [
       "<div>\n",
       "<style scoped>\n",
       "    .dataframe tbody tr th:only-of-type {\n",
       "        vertical-align: middle;\n",
       "    }\n",
       "\n",
       "    .dataframe tbody tr th {\n",
       "        vertical-align: top;\n",
       "    }\n",
       "\n",
       "    .dataframe thead th {\n",
       "        text-align: right;\n",
       "    }\n",
       "</style>\n",
       "<table border=\"1\" class=\"dataframe\">\n",
       "  <thead>\n",
       "    <tr style=\"text-align: right;\">\n",
       "      <th></th>\n",
       "      <th>count</th>\n",
       "      <th>mean</th>\n",
       "      <th>std</th>\n",
       "      <th>min</th>\n",
       "      <th>25%</th>\n",
       "      <th>50%</th>\n",
       "      <th>75%</th>\n",
       "      <th>max</th>\n",
       "    </tr>\n",
       "    <tr>\n",
       "      <th>model_period</th>\n",
       "      <th></th>\n",
       "      <th></th>\n",
       "      <th></th>\n",
       "      <th></th>\n",
       "      <th></th>\n",
       "      <th></th>\n",
       "      <th></th>\n",
       "      <th></th>\n",
       "    </tr>\n",
       "  </thead>\n",
       "  <tbody>\n",
       "    <tr>\n",
       "      <th>after_75</th>\n",
       "      <td>157.0</td>\n",
       "      <td>22.865605</td>\n",
       "      <td>6.442882</td>\n",
       "      <td>13.0</td>\n",
       "      <td>18.0</td>\n",
       "      <td>21.5</td>\n",
       "      <td>27.4</td>\n",
       "      <td>43.1</td>\n",
       "    </tr>\n",
       "    <tr>\n",
       "      <th>before_75</th>\n",
       "      <td>150.0</td>\n",
       "      <td>19.220000</td>\n",
       "      <td>5.999855</td>\n",
       "      <td>9.0</td>\n",
       "      <td>14.0</td>\n",
       "      <td>18.0</td>\n",
       "      <td>24.0</td>\n",
       "      <td>35.0</td>\n",
       "    </tr>\n",
       "  </tbody>\n",
       "</table>\n",
       "</div>"
      ],
      "text/plain": [
       "              count       mean       std   min   25%   50%   75%   max\n",
       "model_period                                                          \n",
       "after_75      157.0  22.865605  6.442882  13.0  18.0  21.5  27.4  43.1\n",
       "before_75     150.0  19.220000  5.999855   9.0  14.0  18.0  24.0  35.0"
      ]
     },
     "execution_count": 8,
     "metadata": {},
     "output_type": "execute_result"
    }
   ],
   "source": [
    "# Observations\n",
    "tmp_df_1 = df.query(\"model_year < 80\").copy()\n",
    "tmp_df_1[\"model_period\"] = (\n",
    "    tmp_df_1[\"model_year\"]\n",
    "    .apply(lambda model_year: \"before_75\" if model_year < 75 else \"after_75\")\n",
    ")\n",
    "\n",
    "tmp_df_1.groupby(\"model_period\")[\"mpg\"].describe()"
   ]
  },
  {
   "cell_type": "code",
   "execution_count": 9,
   "metadata": {},
   "outputs": [
    {
     "data": {
      "text/plain": [
       "model_period\n",
       "after_75     41.510732\n",
       "before_75    35.998255\n",
       "Name: mpg, dtype: float64"
      ]
     },
     "execution_count": 9,
     "metadata": {},
     "output_type": "execute_result"
    }
   ],
   "source": [
    "tmp_df_1.groupby(\"model_period\")[\"mpg\"].var()"
   ]
  },
  {
   "cell_type": "code",
   "execution_count": 10,
   "metadata": {},
   "outputs": [
    {
     "data": {
      "image/png": "[encoded data removed]",
      "text/plain": [
       "<Figure size 640x480 with 1 Axes>"
      ]
     },
     "metadata": {},
     "output_type": "display_data"
    }
   ],
   "source": [
    "sns.boxplot(data=tmp_df_1, x=\"model_period\", y=\"mpg\")\n",
    "plt.title(\"Boxplot of mpg\\nbefore and after 1975\")\n",
    "plt.show()"
   ]
  },
  {
   "cell_type": "code",
   "execution_count": 11,
   "metadata": {},
   "outputs": [
    {
     "name": "stdout",
     "output_type": "stream",
     "text": [
      "Student: TtestResult(statistic=np.float64(-5.124844610385172), pvalue=np.float64(2.647552225662162e-07), df=np.float64(305.0))\n",
      "  Welsh: TtestResult(statistic=np.float64(-5.133189260373369), pvalue=np.float64(2.5426232556922585e-07), df=np.float64(304.80252342094974))\n"
     ]
    }
   ],
   "source": [
    "samples = tmp_df_1.groupby(\"model_period\")[\"mpg\"].apply(list)\n",
    "\n",
    "test_1 = ttest_ind(samples[\"before_75\"], samples[\"after_75\"], alternative=\"less\")  # alt: less -> first < second\n",
    "test_2 = ttest_ind(samples[\"before_75\"], samples[\"after_75\"], alternative=\"less\", equal_var=False)  # Welsh\n",
    "\n",
    "print(\"Student:\", test_1)\n",
    "print(\"  Welsh:\", test_2)"
   ]
  },
  {
   "cell_type": "markdown",
   "metadata": {},
   "source": [
    "- La p-valeur de ce test étant inférieure à notre seuil de 0,02, nous rejetons H0.\n",
    "- Peut-on donc affirmer que celle-ci a augmenté ? Devait-on réellement utiliser le `alternative=\"less\"` ? (à voir)."
   ]
  },
  {
   "cell_type": "markdown",
   "metadata": {},
   "source": [
    "#### **3. Un constructeur automobile américain affirme que les voitures américaines à 4 cylindres ont en moyenne la même accélération que les voitures américaines à 6 cylindres. Testons cette affirmation et concluons avec un niveau de confiance de 98%.**"
   ]
  },
  {
   "cell_type": "markdown",
   "metadata": {},
   "source": [
    "- Nous utiliserons un test de Student à 2 échantillons indépendants pour comparer les moyennes de la variable continue `acceleration` en fonction de la variable discrète représentant le nombre de cylindres (4 ou 6) :\n",
    "  - Nous supposons les observations indépendantes entre elles.\n",
    "  - Nous avons plus de 30 observations.\n",
    "  - Les variances sont quasi-égales.\n",
    "- H0 : \"Les voitures américaines à 4 cylindres ont en moyenne la même accélération que les voitures américaines à 6 cylindres\"."
   ]
  },
  {
   "cell_type": "code",
   "execution_count": 12,
   "metadata": {},
   "outputs": [
    {
     "data": {
      "text/html": [
       "<div>\n",
       "<style scoped>\n",
       "    .dataframe tbody tr th:only-of-type {\n",
       "        vertical-align: middle;\n",
       "    }\n",
       "\n",
       "    .dataframe tbody tr th {\n",
       "        vertical-align: top;\n",
       "    }\n",
       "\n",
       "    .dataframe thead th {\n",
       "        text-align: right;\n",
       "    }\n",
       "</style>\n",
       "<table border=\"1\" class=\"dataframe\">\n",
       "  <thead>\n",
       "    <tr style=\"text-align: right;\">\n",
       "      <th></th>\n",
       "      <th>count</th>\n",
       "      <th>mean</th>\n",
       "      <th>std</th>\n",
       "      <th>min</th>\n",
       "      <th>25%</th>\n",
       "      <th>50%</th>\n",
       "      <th>75%</th>\n",
       "      <th>max</th>\n",
       "    </tr>\n",
       "    <tr>\n",
       "      <th>cylinders</th>\n",
       "      <th></th>\n",
       "      <th></th>\n",
       "      <th></th>\n",
       "      <th></th>\n",
       "      <th></th>\n",
       "      <th></th>\n",
       "      <th></th>\n",
       "      <th></th>\n",
       "    </tr>\n",
       "  </thead>\n",
       "  <tbody>\n",
       "    <tr>\n",
       "      <th>4</th>\n",
       "      <td>69.0</td>\n",
       "      <td>16.465217</td>\n",
       "      <td>2.180989</td>\n",
       "      <td>11.6</td>\n",
       "      <td>14.9</td>\n",
       "      <td>16.2</td>\n",
       "      <td>17.7</td>\n",
       "      <td>22.2</td>\n",
       "    </tr>\n",
       "    <tr>\n",
       "      <th>6</th>\n",
       "      <td>73.0</td>\n",
       "      <td>16.467123</td>\n",
       "      <td>1.908974</td>\n",
       "      <td>11.3</td>\n",
       "      <td>15.5</td>\n",
       "      <td>16.4</td>\n",
       "      <td>17.7</td>\n",
       "      <td>21.0</td>\n",
       "    </tr>\n",
       "  </tbody>\n",
       "</table>\n",
       "</div>"
      ],
      "text/plain": [
       "           count       mean       std   min   25%   50%   75%   max\n",
       "cylinders                                                          \n",
       "4           69.0  16.465217  2.180989  11.6  14.9  16.2  17.7  22.2\n",
       "6           73.0  16.467123  1.908974  11.3  15.5  16.4  17.7  21.0"
      ]
     },
     "execution_count": 12,
     "metadata": {},
     "output_type": "execute_result"
    }
   ],
   "source": [
    "# Observations\n",
    "tmp_df_2 = df.query(\"origin == 'usa' & cylinders in [4, 6]\")\n",
    "tmp_df_2.groupby(\"cylinders\")[\"acceleration\"].describe()"
   ]
  },
  {
   "cell_type": "code",
   "execution_count": 13,
   "metadata": {},
   "outputs": [
    {
     "data": {
      "text/plain": [
       "cylinders\n",
       "4    4.756714\n",
       "6    3.644182\n",
       "Name: acceleration, dtype: float64"
      ]
     },
     "execution_count": 13,
     "metadata": {},
     "output_type": "execute_result"
    }
   ],
   "source": [
    "tmp_df_2.groupby(\"cylinders\")[\"acceleration\"].var()"
   ]
  },
  {
   "cell_type": "code",
   "execution_count": 14,
   "metadata": {},
   "outputs": [
    {
     "data": {
      "image/png": "[encoded data removed]",
      "text/plain": [
       "<Figure size 640x480 with 1 Axes>"
      ]
     },
     "metadata": {},
     "output_type": "display_data"
    }
   ],
   "source": [
    "sns.boxplot(data=tmp_df_2, x=\"cylinders\", y=\"acceleration\")\n",
    "plt.title(\"Boxplot of acceleration\\nfor 4 and 6 cylinders engines\")\n",
    "plt.show()"
   ]
  },
  {
   "cell_type": "code",
   "execution_count": 15,
   "metadata": {},
   "outputs": [
    {
     "data": {
      "text/plain": [
       "TtestResult(statistic=np.float64(-0.0055490223717790345), pvalue=np.float64(0.9955804426559065), df=np.float64(140.0))"
      ]
     },
     "execution_count": 15,
     "metadata": {},
     "output_type": "execute_result"
    }
   ],
   "source": [
    "samples = tmp_df_2.groupby(\"cylinders\")[\"acceleration\"].apply(list)\n",
    "ttest_ind(samples[4], samples[6])"
   ]
  },
  {
   "cell_type": "markdown",
   "metadata": {},
   "source": [
    "- Sachant H0, la probabilité d'avoir un des moyennes au moins aussi éloignées (0,0019 d'écart) est largement supérieure à notre seuil (p = 0,9956 >>> alpha = 0,02).\n",
    "- Nous ne pouvons donc pas rejeter l'hypothèse selon laquelle l'accélération des véhicules américains serait la même pour les 4 et les 6 cylindres. "
   ]
  },
  {
   "cell_type": "markdown",
   "metadata": {},
   "source": [
    "#### **4. Un collectionneur de voitures affirme que parmi les voitures Ford des années 1970-1982, il y avait :**\n",
    "\n",
    "<b>\n",
    "\n",
    "- 25% de 4 cylindres\n",
    "- 25% de 6 cylindres\n",
    "- 50% de 8 cylindres\n",
    "\n",
    "Testons son affirmation et concluons avec un niveau de confiance de 95%.</b>"
   ]
  },
  {
   "cell_type": "markdown",
   "metadata": {},
   "source": [
    "- Nous utiliserons un test du Chi-2 pour évaluer la pertinence de ces ratios on les comparant aux proportions observées."
   ]
  },
  {
   "cell_type": "code",
   "execution_count": 16,
   "metadata": {},
   "outputs": [
    {
     "data": {
      "text/plain": [
       "cylinders\n",
       "4    16\n",
       "6    12\n",
       "8    20\n",
       "Name: count, dtype: int64"
      ]
     },
     "execution_count": 16,
     "metadata": {},
     "output_type": "execute_result"
    }
   ],
   "source": [
    "# Observations\n",
    "tmp_df_3 = df.copy()\n",
    "tmp_df_3[\"is_ford\"] = df[\"name\"].str.contains(\"ford\", case=False, na=False)\n",
    "tmp_df_3 = tmp_df_3.query(\"is_ford == True\")[\"cylinders\"]\n",
    "\n",
    "f_obs = tmp_df_3.value_counts().sort_index()\n",
    "f_obs"
   ]
  },
  {
   "cell_type": "code",
   "execution_count": 17,
   "metadata": {},
   "outputs": [
    {
     "data": {
      "text/plain": [
       "array([12., 12., 24.])"
      ]
     },
     "execution_count": 17,
     "metadata": {},
     "output_type": "execute_result"
    }
   ],
   "source": [
    "# Expected values\n",
    "f_exp = np.array([0.25, 0.25, 0.5]) * len(tmp_df_3)\n",
    "f_exp"
   ]
  },
  {
   "cell_type": "code",
   "execution_count": 18,
   "metadata": {},
   "outputs": [
    {
     "data": {
      "text/plain": [
       "Power_divergenceResult(statistic=np.float64(2.0), pvalue=np.float64(0.36787944117144245))"
      ]
     },
     "execution_count": 18,
     "metadata": {},
     "output_type": "execute_result"
    }
   ],
   "source": [
    "chisquare(f_obs, f_exp)"
   ]
  },
  {
   "cell_type": "markdown",
   "metadata": {},
   "source": [
    "- On a 0,3679 > 0,05.\n",
    "- Avec un seuil de confiance à 95%, les données ne nous permettent pas de rejeter l'hypothèse sur les proportions de véhicules par cylindes.\n",
    "- Jusqu'à preuve du contraire, on pourrait croire que la distribution des cylindres pour les modèles Ford suit la relation donnée par le collectionneur. "
   ]
  },
  {
   "cell_type": "markdown",
   "metadata": {},
   "source": [
    "#### **5. Les voitures à 4 cylindres ont en moyenne la même consommation d'essence au Japon, en Europe et aux États-Unis, dans les années 1970-1982. Testons cette affirmation et concluons avec un niveau de confiance de 98%.**"
   ]
  },
  {
   "cell_type": "markdown",
   "metadata": {},
   "source": [
    "- Nous emploierons un test ANOVA pour évaluer l'égalité des moyennes au sein de ces 3 groupes."
   ]
  },
  {
   "cell_type": "code",
   "execution_count": 19,
   "metadata": {},
   "outputs": [
    {
     "data": {
      "text/html": [
       "<div>\n",
       "<style scoped>\n",
       "    .dataframe tbody tr th:only-of-type {\n",
       "        vertical-align: middle;\n",
       "    }\n",
       "\n",
       "    .dataframe tbody tr th {\n",
       "        vertical-align: top;\n",
       "    }\n",
       "\n",
       "    .dataframe thead th {\n",
       "        text-align: right;\n",
       "    }\n",
       "</style>\n",
       "<table border=\"1\" class=\"dataframe\">\n",
       "  <thead>\n",
       "    <tr style=\"text-align: right;\">\n",
       "      <th></th>\n",
       "      <th>count</th>\n",
       "      <th>mean</th>\n",
       "      <th>std</th>\n",
       "      <th>min</th>\n",
       "      <th>25%</th>\n",
       "      <th>50%</th>\n",
       "      <th>75%</th>\n",
       "      <th>max</th>\n",
       "    </tr>\n",
       "    <tr>\n",
       "      <th>origin</th>\n",
       "      <th></th>\n",
       "      <th></th>\n",
       "      <th></th>\n",
       "      <th></th>\n",
       "      <th></th>\n",
       "      <th></th>\n",
       "      <th></th>\n",
       "      <th></th>\n",
       "    </tr>\n",
       "  </thead>\n",
       "  <tbody>\n",
       "    <tr>\n",
       "      <th>europe</th>\n",
       "      <td>61.0</td>\n",
       "      <td>28.106557</td>\n",
       "      <td>6.291075</td>\n",
       "      <td>18.0</td>\n",
       "      <td>24.0</td>\n",
       "      <td>27.0</td>\n",
       "      <td>30.0</td>\n",
       "      <td>44.3</td>\n",
       "    </tr>\n",
       "    <tr>\n",
       "      <th>japan</th>\n",
       "      <td>69.0</td>\n",
       "      <td>31.595652</td>\n",
       "      <td>5.435787</td>\n",
       "      <td>20.0</td>\n",
       "      <td>27.5</td>\n",
       "      <td>32.0</td>\n",
       "      <td>35.0</td>\n",
       "      <td>46.6</td>\n",
       "    </tr>\n",
       "    <tr>\n",
       "      <th>usa</th>\n",
       "      <td>69.0</td>\n",
       "      <td>28.013043</td>\n",
       "      <td>4.566596</td>\n",
       "      <td>19.0</td>\n",
       "      <td>25.0</td>\n",
       "      <td>27.2</td>\n",
       "      <td>30.9</td>\n",
       "      <td>39.0</td>\n",
       "    </tr>\n",
       "  </tbody>\n",
       "</table>\n",
       "</div>"
      ],
      "text/plain": [
       "        count       mean       std   min   25%   50%   75%   max\n",
       "origin                                                          \n",
       "europe   61.0  28.106557  6.291075  18.0  24.0  27.0  30.0  44.3\n",
       "japan    69.0  31.595652  5.435787  20.0  27.5  32.0  35.0  46.6\n",
       "usa      69.0  28.013043  4.566596  19.0  25.0  27.2  30.9  39.0"
      ]
     },
     "execution_count": 19,
     "metadata": {},
     "output_type": "execute_result"
    }
   ],
   "source": [
    "# Observations\n",
    "tmp_df_4 = df.query(\"cylinders == 4\")\n",
    "tmp_df_4.groupby(\"origin\")[\"mpg\"].describe()"
   ]
  },
  {
   "cell_type": "code",
   "execution_count": 20,
   "metadata": {},
   "outputs": [
    {
     "data": {
      "text/plain": [
       "F_onewayResult(statistic=np.float64(9.538999089626692), pvalue=np.float64(0.00011134953247210174))"
      ]
     },
     "execution_count": 20,
     "metadata": {},
     "output_type": "execute_result"
    }
   ],
   "source": [
    "samples = tmp_df_4.groupby(\"origin\")[\"mpg\"].apply(list)\n",
    "f_oneway(*samples)"
   ]
  },
  {
   "cell_type": "markdown",
   "metadata": {},
   "source": [
    "- On a 1 chance sur 8980 d'observer une telle différence entre les moyennes en supposant qu'elles soient égales.\n",
    "- 0,000111 <  0,02, nous rejetons l'hypothèse formulée."
   ]
  },
  {
   "cell_type": "markdown",
   "metadata": {},
   "source": [
    "#### **6. Les voitures européennes et japonaises ont en moyenne le même nombre de chevaux. Testons cette affirmation et concluons avec un niveau de confiance de 98%.**"
   ]
  },
  {
   "cell_type": "markdown",
   "metadata": {},
   "source": [
    "- Nous utiliserons dans ce cas un test de Student à 2 échantillons pour comparer les moyennes du nombre de chevaux entre les véhicules venant des 2 origines.\n",
    "- Les conditions nécessaires sont vérifiées."
   ]
  },
  {
   "cell_type": "code",
   "execution_count": 21,
   "metadata": {},
   "outputs": [
    {
     "data": {
      "text/html": [
       "<div>\n",
       "<style scoped>\n",
       "    .dataframe tbody tr th:only-of-type {\n",
       "        vertical-align: middle;\n",
       "    }\n",
       "\n",
       "    .dataframe tbody tr th {\n",
       "        vertical-align: top;\n",
       "    }\n",
       "\n",
       "    .dataframe thead th {\n",
       "        text-align: right;\n",
       "    }\n",
       "</style>\n",
       "<table border=\"1\" class=\"dataframe\">\n",
       "  <thead>\n",
       "    <tr style=\"text-align: right;\">\n",
       "      <th></th>\n",
       "      <th>count</th>\n",
       "      <th>mean</th>\n",
       "      <th>std</th>\n",
       "      <th>min</th>\n",
       "      <th>25%</th>\n",
       "      <th>50%</th>\n",
       "      <th>75%</th>\n",
       "      <th>max</th>\n",
       "    </tr>\n",
       "    <tr>\n",
       "      <th>origin</th>\n",
       "      <th></th>\n",
       "      <th></th>\n",
       "      <th></th>\n",
       "      <th></th>\n",
       "      <th></th>\n",
       "      <th></th>\n",
       "      <th></th>\n",
       "      <th></th>\n",
       "    </tr>\n",
       "  </thead>\n",
       "  <tbody>\n",
       "    <tr>\n",
       "      <th>europe</th>\n",
       "      <td>68.0</td>\n",
       "      <td>80.558824</td>\n",
       "      <td>20.157871</td>\n",
       "      <td>46.0</td>\n",
       "      <td>69.75</td>\n",
       "      <td>76.5</td>\n",
       "      <td>90.0</td>\n",
       "      <td>133.0</td>\n",
       "    </tr>\n",
       "    <tr>\n",
       "      <th>japan</th>\n",
       "      <td>79.0</td>\n",
       "      <td>79.835443</td>\n",
       "      <td>17.819199</td>\n",
       "      <td>52.0</td>\n",
       "      <td>67.00</td>\n",
       "      <td>75.0</td>\n",
       "      <td>95.0</td>\n",
       "      <td>132.0</td>\n",
       "    </tr>\n",
       "  </tbody>\n",
       "</table>\n",
       "</div>"
      ],
      "text/plain": [
       "        count       mean        std   min    25%   50%   75%    max\n",
       "origin                                                             \n",
       "europe   68.0  80.558824  20.157871  46.0  69.75  76.5  90.0  133.0\n",
       "japan    79.0  79.835443  17.819199  52.0  67.00  75.0  95.0  132.0"
      ]
     },
     "execution_count": 21,
     "metadata": {},
     "output_type": "execute_result"
    }
   ],
   "source": [
    "# Observations\n",
    "tmp_df_5 = df.query(\"origin in ['europe', 'japan']\")\n",
    "tmp_df_5.groupby(\"origin\")[\"horsepower\"].describe()"
   ]
  },
  {
   "cell_type": "code",
   "execution_count": 22,
   "metadata": {},
   "outputs": [
    {
     "data": {
      "text/plain": [
       "TtestResult(statistic=np.float64(0.23093695241338838), pvalue=np.float64(0.8176893173506833), df=np.float64(145.0))"
      ]
     },
     "execution_count": 22,
     "metadata": {},
     "output_type": "execute_result"
    }
   ],
   "source": [
    "samples = tmp_df_5.groupby(\"origin\")[\"horsepower\"].apply(list)\n",
    "ttest_ind(*samples)"
   ]
  },
  {
   "cell_type": "markdown",
   "metadata": {},
   "source": [
    "- p = 0,8177 > alpha = 0,02.\n",
    "- La probabilité d'obtenir un résultat au moins aussi extrême sachant H0 est très faible.\n",
    "- Nous ne disposons pas d'assez de preuves pour rejeter H0."
   ]
  },
  {
   "cell_type": "markdown",
   "metadata": {},
   "source": [
    "#### **7. Un spécialiste dit que les constructeurs Ford et Dodge produisaient dans les années 70-82 des voitures avec un nombre de cylindres équivalent. Testons cette affirmation et concluons avec un niveau de confiance de 98%.**"
   ]
  },
  {
   "cell_type": "markdown",
   "metadata": {},
   "source": [
    "- Nous utiliserons un test de Chi-2 d'indépendance pour vérifier que le nombre de cylindres ne dépendait pas du constructeur."
   ]
  },
  {
   "cell_type": "code",
   "execution_count": 23,
   "metadata": {},
   "outputs": [
    {
     "data": {
      "text/html": [
       "<div>\n",
       "<style scoped>\n",
       "    .dataframe tbody tr th:only-of-type {\n",
       "        vertical-align: middle;\n",
       "    }\n",
       "\n",
       "    .dataframe tbody tr th {\n",
       "        vertical-align: top;\n",
       "    }\n",
       "\n",
       "    .dataframe thead th {\n",
       "        text-align: right;\n",
       "    }\n",
       "</style>\n",
       "<table border=\"1\" class=\"dataframe\">\n",
       "  <thead>\n",
       "    <tr style=\"text-align: right;\">\n",
       "      <th>cylinders</th>\n",
       "      <th>4</th>\n",
       "      <th>6</th>\n",
       "      <th>8</th>\n",
       "    </tr>\n",
       "    <tr>\n",
       "      <th>brand</th>\n",
       "      <th></th>\n",
       "      <th></th>\n",
       "      <th></th>\n",
       "    </tr>\n",
       "  </thead>\n",
       "  <tbody>\n",
       "    <tr>\n",
       "      <th>dodge</th>\n",
       "      <td>12</td>\n",
       "      <td>4</td>\n",
       "      <td>12</td>\n",
       "    </tr>\n",
       "    <tr>\n",
       "      <th>ford</th>\n",
       "      <td>16</td>\n",
       "      <td>12</td>\n",
       "      <td>20</td>\n",
       "    </tr>\n",
       "  </tbody>\n",
       "</table>\n",
       "</div>"
      ],
      "text/plain": [
       "cylinders   4   6   8\n",
       "brand                \n",
       "dodge      12   4  12\n",
       "ford       16  12  20"
      ]
     },
     "execution_count": 23,
     "metadata": {},
     "output_type": "execute_result"
    }
   ],
   "source": [
    "# Observations\n",
    "tmp_df_6 = df.copy()\n",
    "tmp_df_6 = tmp_df_6[tmp_df_6[\"name\"].str.contains(\"ford|dodge\", case=False, na=False)]\n",
    "tmp_df_6[\"brand\"] = tmp_df_6[\"name\"].apply(lambda name: \"ford\" if \"ford\" in name else \"dodge\")\n",
    "\n",
    "observed = pd.crosstab(tmp_df_6[\"brand\"], tmp_df_6[\"cylinders\"])\n",
    "observed"
   ]
  },
  {
   "cell_type": "code",
   "execution_count": 24,
   "metadata": {},
   "outputs": [
    {
     "data": {
      "text/plain": [
       "Chi2ContingencyResult(statistic=np.float64(1.4056122448979598), pvalue=np.float64(0.49519377793169383), dof=2, expected_freq=array([[10.31578947,  5.89473684, 11.78947368],\n",
       "       [17.68421053, 10.10526316, 20.21052632]]))"
      ]
     },
     "execution_count": 24,
     "metadata": {},
     "output_type": "execute_result"
    }
   ],
   "source": [
    "chi2_contingency(observed)"
   ]
  },
  {
   "cell_type": "markdown",
   "metadata": {},
   "source": [
    "- p > alpha, les données ne nous permettent pas de rejeter l'hypothèse selon laquelle le nombre de cylindres serait indépendant des constructeurs Ford et Dodge dans les années 70-82."
   ]
  },
  {
   "cell_type": "markdown",
   "metadata": {},
   "source": [
    "---"
   ]
  },
  {
   "cell_type": "markdown",
   "metadata": {},
   "source": [
    "#### Analyse fondamentale\n",
    "\n",
    "Les données MPG (Miles Per Gallon) recense les caractéristiques techniques d'un ensemble de véhicules produits entre 1970 et 1982 aux USA, en Europe et au Japon. Nous avons 398 lignes et 9 colonnes.\n",
    "\n",
    "Il contient les colonnes suivantes :\n",
    "- `mpg` : L'autonomie du véhicule en miles per gallon. C'est le nombre de miles (1 mile = 1.6 km environ) parcourus par le véhicules lorsqu'il consomme 1 unité de carburant (gallon).\n",
    "- `cylinders` : Le nombre de cylindres du moteur.\n",
    "- `displacement` : La cylindrée ou la taille du moteur en litres.\n",
    "- `horsepower` : La puissance produite par le moteur.\n",
    "- `weight` : Le poids du véhicule (unité ?).\n",
    "- `acceleration` : L'accélaration instantannée de la voiture (unité ?).\n",
    "- `model_year` : L'année de fabrication.\n",
    "- `origin` : Le lieu de fabrication.\n",
    "- `name` : Le nom du modèle.\n",
    "\n",
    "D'après le [UCI machine learning repository](https://archive.ics.uci.edu/dataset/9/auto+mpg), ces données proviennent de la bibliothèque StatLib de l'Université Carnegie Mellon, dans une version légèrement modifiée. Huit lignes ont été supprimées en raison de valeurs manquantes pour `mpg`. Ces données ont été mises à disposition dans le but de prédire la consommation de carburant en cycle urbain à partir de trois attributs discrets et de cinq attributs continus (Quinlan, 1993)."
   ]
  }
 ],
 "metadata": {
  "kernelspec": {
   "display_name": "ml-pro",
   "language": "python",
   "name": "python3"
  },
  "language_info": {
   "codemirror_mode": {
    "name": "ipython",
    "version": 3
   },
   "file_extension": ".py",
   "mimetype": "text/x-python",
   "name": "python",
   "nbconvert_exporter": "python",
   "pygments_lexer": "ipython3",
   "version": "3.12.8"
  }
 },
 "nbformat": 4,
 "nbformat_minor": 2
}
