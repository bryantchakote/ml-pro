{
 "cells": [
  {
   "cell_type": "markdown",
   "metadata": {},
   "source": [
    "# Normalisation"
   ]
  },
  {
   "cell_type": "markdown",
   "metadata": {},
   "source": [
    "![Enoncé Exercice 2 (normalisation)](exercice-2-normalisation.png)"
   ]
  },
  {
   "cell_type": "markdown",
   "metadata": {},
   "source": [
    "- Nous avons un dataset contenant le poids et la taille des individus.\n",
    "- Le poids est exprimé en kg.\n",
    "- La taille est exprimée :\n",
    "  - En m dans le 1er cas.\n",
    "  - En cm dans le 2e cas.\n",
    "  - Il s'agit bien sûr des mêmes tailles !\n",
    "- Les données ont été séparées en 2 groupes (bleus et rouges), et on a introduit une nouvelle observation (vert).\n",
    "- L'objectif est de déterminer de quel groupe ce nouveau point se rapproche le plus.\n",
    "- Pour ce faire, nous comparerons la distance de Manhatthan entre le point bleu le plus proche, et le point rouge le plus proche (knn, k=1).\n",
    "- Pour chacun des scénarios (taille en m et en cm), nous ferons le calcul avec et sans normalisation MinMax. Nous supposons que :\n",
    "  - Le poids en kg varie entre 0 et 100.\n",
    "  - La taille en m varie entre 0 et 2.\n",
    "  - La taille en cm varie entre 0 et 200.\n",
    "- Etant donné ces intervalles, il suffira, pour normaliser les données, de diviser par :\n",
    "  - 100 le poids.\n",
    "  - 2 la taille en m.\n",
    "  - 200 la taille en cm."
   ]
  },
  {
   "cell_type": "code",
   "execution_count": 1,
   "metadata": {},
   "outputs": [],
   "source": [
    "# Distance de Manhattan dans le plan\n",
    "def distance(a, b):\n",
    "    return round(abs(a[0] - b[0]) + abs(a[1] - b[1]), 3)"
   ]
  },
  {
   "cell_type": "code",
   "execution_count": 2,
   "metadata": {},
   "outputs": [
    {
     "name": "stdout",
     "output_type": "stream",
     "text": [
      "Sans normalisation\n",
      "Données: {'bleu': [70, 1.75], 'rouge': [90, 1.6], 'vert': [78, 1.63]}\n",
      "Distance bleu-vert: 8.12\n",
      "Distance rouge-vert: 12.03\n",
      "\n",
      "Avec normalisation\n",
      "Données: {'bleu': [0.7, 0.875], 'rouge': [0.9, 0.8], 'vert': [0.78, 0.815]}\n",
      "Distance bleu-vert: 0.14\n",
      "Distance rouge-vert: 0.135\n"
     ]
    }
   ],
   "source": [
    "# 1. La taille est exprimée en m\n",
    "data = {\n",
    "    \"bleu\": [70, 1.75],  # poids, taille\n",
    "    \"rouge\": [90, 1.60],\n",
    "    \"vert\": [78, 1.63],\n",
    "}\n",
    "print(\"Sans normalisation\")\n",
    "print(\"Données:\", data)\n",
    "print(\"Distance bleu-vert:\", distance(data[\"bleu\"], data[\"vert\"]))\n",
    "print(\"Distance rouge-vert:\", distance(data[\"rouge\"], data[\"vert\"]))\n",
    "\n",
    "print()\n",
    "\n",
    "normalized_data = {\n",
    "    key: [weight / 100, height / 2] for key, (weight, height) in data.items()\n",
    "}\n",
    "\n",
    "print(\"Avec normalisation\")\n",
    "print(\"Données:\", normalized_data)\n",
    "print(\"Distance bleu-vert:\", distance(normalized_data[\"bleu\"], normalized_data[\"vert\"]))\n",
    "print(\n",
    "    \"Distance rouge-vert:\", distance(normalized_data[\"rouge\"], normalized_data[\"vert\"])\n",
    ")"
   ]
  },
  {
   "cell_type": "code",
   "execution_count": 3,
   "metadata": {},
   "outputs": [
    {
     "name": "stdout",
     "output_type": "stream",
     "text": [
      "Sans normalisation\n",
      "Données: {'bleu': [70, 175], 'rouge': [90, 160], 'vert': [78, 163]}\n",
      "Distance bleu-vert: 20\n",
      "Distance rouge-vert: 15\n",
      "\n",
      "Avec normalisation\n",
      "Données: {'bleu': [0.7, 0.875], 'rouge': [0.9, 0.8], 'vert': [0.78, 0.815]}\n",
      "Distance bleu-vert: 0.14\n",
      "Distance rouge-vert: 0.135\n"
     ]
    }
   ],
   "source": [
    "# 2. La taille est exprimée en cm\n",
    "data = {\n",
    "    \"bleu\": [70, 175],  # poids, taille\n",
    "    \"rouge\": [90, 160],\n",
    "    \"vert\": [78, 163],\n",
    "}\n",
    "print(\"Sans normalisation\")\n",
    "print(\"Données:\", data)\n",
    "print(\"Distance bleu-vert:\", distance(data[\"bleu\"], data[\"vert\"]))\n",
    "print(\"Distance rouge-vert:\", distance(data[\"rouge\"], data[\"vert\"]))\n",
    "\n",
    "print()\n",
    "\n",
    "normalized_data = {\n",
    "    key: [weight / 100, height / 200] for key, (weight, height) in data.items()\n",
    "}\n",
    "\n",
    "print(\"Avec normalisation\")\n",
    "print(\"Données:\", normalized_data)\n",
    "print(\"Distance bleu-vert:\", distance(normalized_data[\"bleu\"], normalized_data[\"vert\"]))\n",
    "print(\n",
    "    \"Distance rouge-vert:\", distance(normalized_data[\"rouge\"], normalized_data[\"vert\"])\n",
    ")"
   ]
  },
  {
   "cell_type": "markdown",
   "metadata": {},
   "source": [
    "- Sans normalisation, le nouveau point est :\n",
    "  - plus proche des bleus dans le 1er cas, mais\n",
    "  - plus proche des rouges dans le 2e,\n",
    "  - ce qui crée un incohérence du simple fait du changement d'unité de mesure.\n",
    "- Avec des données normalisées :\n",
    "  - dans les 2 cas les valeurs sont les mêmes, le calcul est donc plus robuste,\n",
    "  - et les résultats plus fiables (le nouveau point est plus proche des rouges).\n",
    "- D'où l'importance d'avoir des données à la même échelle lorsque l'on travaille sur des projets data."
   ]
  }
 ],
 "metadata": {
  "kernelspec": {
   "display_name": "ml-pro",
   "language": "python",
   "name": "python3"
  },
  "language_info": {
   "codemirror_mode": {
    "name": "ipython",
    "version": 3
   },
   "file_extension": ".py",
   "mimetype": "text/x-python",
   "name": "python",
   "nbconvert_exporter": "python",
   "pygments_lexer": "ipython3",
   "version": "3.12.8"
  }
 },
 "nbformat": 4,
 "nbformat_minor": 2
}
